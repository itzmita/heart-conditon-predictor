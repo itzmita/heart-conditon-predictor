{
 "cells": [
  {
   "cell_type": "code",
   "execution_count": null,
   "id": "063e4301",
   "metadata": {},
   "outputs": [],
   "source": [
    "import sqlite3\n",
    "from sqlite3 import Error\n",
    "import pandas as pd\n",
    "!Pip install pyreadstat\n",
    "from pathlib import Path\n",
    "import pyreadstat\n",
    "import xport.v56"
   ]
  },
  {
   "cell_type": "code",
   "execution_count": null,
   "id": "f229282e",
   "metadata": {},
   "outputs": [],
   "source": [
    "#COnfirm we have the packages required...sometimes kernel doesn't accept Pip Installs in a timely manner!!!\n",
    "!Pip list"
   ]
  },
  {
   "cell_type": "code",
   "execution_count": null,
   "id": "617bf97d",
   "metadata": {},
   "outputs": [],
   "source": [
    "# Check the environment we are in\n",
    "import sys\n",
    "print(sys.executable)"
   ]
  },
  {
   "cell_type": "code",
   "execution_count": null,
   "id": "79c3825a",
   "metadata": {},
   "outputs": [],
   "source": [
    "#Import Raw Data as Pandas DataFrame\n",
    "filepath = (\"LLCP2020.XPT_\")\n",
    "df = pd.read_sas(filepath, format='xport', encoding='utf-8')\n",
    "df.head(10)"
   ]
  },
  {
   "cell_type": "code",
   "execution_count": null,
   "id": "c3f43da4",
   "metadata": {},
   "outputs": [],
   "source": [
    "#Renaming the Features we plan on using\n",
    "df_rename= df.rename({\"_STATE\":\"STATE\",\n",
    "                     \"_CLNSCPY\":\"Colonoscopy( 10 years)\",\n",
    "                     \"_SGMS10Y\":\"Sigmoidoscopy(last 5 years)\",\n",
    "                    \"_RFBLDS4\":\"Blood Stool Test(last 2 years)\",\n",
    "                     \"_STOLDNA\":\"Stool DNA Test(last 3 years)\",\n",
    "                    \"_VIRCOLN\":\"Virtual Colonoscopy(last 5 years)\",\n",
    "                     \"_SBONTIM\": \"Sigmoidoscopy(10 years) & Blood Stool Test(1 year)\",\n",
    "                     \"USPSTF\":\"Meets all Prev Tast Force Recs\"},\n",
    "                      axis=1)\n",
    "df_rename.tail(5)"
   ]
  },
  {
   "cell_type": "code",
   "execution_count": null,
   "id": "ca6c27a3",
   "metadata": {},
   "outputs": [],
   "source": [
    "sex_df = df_rename[[\"BIRTHSEX\",\"SEXVAR\"]]\n",
    "sex_df.dropna()"
   ]
  },
  {
   "cell_type": "code",
   "execution_count": null,
   "id": "116bc032",
   "metadata": {},
   "outputs": [],
   "source": [
    "#Landline\n",
    "LL09_answer = (df_rename['RESPSLCT'].isna().sum())\n",
    "LL09_answer1 = (df_rename[\"RESPSLCT\"].sum())\n",
    "print (LL09_answer)\n",
    "print (LL09_answer1)\n",
    "print(LL09_answer+LL09_answer1)"
   ]
  },
  {
   "cell_type": "code",
   "execution_count": null,
   "id": "011757a1",
   "metadata": {},
   "outputs": [],
   "source": [
    "#The define Original DataSet\n",
    "CP07_answer = (df_rename['CCLGHOUS'].isna().sum())\n",
    "CP07_answer1 = (df_rename[\"CCLGHOUS\"].sum())\n",
    "print (CP07_answer)\n",
    "print (CP07_answer1)\n",
    "print(CP07_answer+CP07_answer1)"
   ]
  },
  {
   "cell_type": "code",
   "execution_count": null,
   "id": "cdd533fa",
   "metadata": {},
   "outputs": [],
   "source": [
    "#Combine the questionnaire accetpable participants\n",
    "print (LL09_answer1+CP07_answer1)"
   ]
  },
  {
   "cell_type": "code",
   "execution_count": null,
   "id": "9851d99c",
   "metadata": {},
   "outputs": [],
   "source": [
    "#Show the columns headers as a list\n",
    "print(df.columns.tolist())"
   ]
  },
  {
   "cell_type": "code",
   "execution_count": null,
   "id": "9d12e0a5",
   "metadata": {},
   "outputs": [],
   "source": [
    "# Condense Columns to Targeted Result Categories\n",
    "filtered_columns_df = df[[\"_SEX\",\"_AGEG5YR\",\"_RACE\",\"_STATE\",\"_RFHLTH\",\"_PHYS14D\",\"_BMI5CAT\",\"DIABETE4\",\"_MENT14D\",\"_RFDRHV7\",\"_RFSMOK3\",\"_LTASTH1\",\"CHCKDNY2\",\"CVDSTRK3\",\"_CLNSCPY\",\"_MICHD\",\"_TOTINDA\",\"_METSTAT\",\"_URBSTAT\",\"_INCOMG\",\"_EDUCAG\",\"SLEPTIM1\"]]\n",
    "filtered_columns_df.head()"
   ]
  },
  {
   "cell_type": "code",
   "execution_count": null,
   "id": "1e2e438b",
   "metadata": {},
   "outputs": [],
   "source": [
    "# Check Column Count vs Expected Result\n",
    "print(len(filtered_columns_df.columns))"
   ]
  },
  {
   "cell_type": "code",
   "execution_count": null,
   "id": "f98a8613",
   "metadata": {},
   "outputs": [],
   "source": [
    "# Rename Columns for Easier Readability\n",
    "filtered_columns_df.rename({\"_SEX\": \"Birth Sex\",\n",
    "                            \"_AGEG5YR\":\"Age\", \n",
    "                            \"_RACE\":\"Race\", \n",
    "                            \"_STATE\":\"State\",\n",
    "                            \"_METSTAT\" : \"Metropolitan_y_n\",\n",
    "                            \"_URBSTAT\" : \"Urban_Rural\",\n",
    "                            \"_RFHLTH\":\"Overall Heath\",\n",
    "                            \"_PHYS14D\":\"Physical Health\",\n",
    "                            \"_BMI5CAT\":\"BMI_CDC_Categories\",\n",
    "                            \"DIABETE4\":\"Diabetes\",\n",
    "                            \"_MENT14D\":\"Mental_Health\",\n",
    "                            \"_RFDRHV7\": \"Alcohol_Usage\",\n",
    "                            \"_RFSMOK3\": \"Tobacco_Usage\",\n",
    "                            \"_LTASTH1\" : \"Asthma_History\",\n",
    "                            \"CHCKDNY2\" : \"Kidney_Disease\",\n",
    "                            \"CVDSTRK3\" : \"Stroke\",\n",
    "                            \"_INCOMG\" : \"Reported_Income\",\n",
    "                            \"_EDUCAG\" : \"Education_Level\",\n",
    "                            \"SLEPTIM1\" : \"Avg_Hours_of_Sleep\",\n",
    "                             \"_CLNSCPY\" : \"Colonoscopy\",\n",
    "                             \"_MICHD\" : \"Prior_Heart_Disease\",\n",
    "                             \"_TOTINDA\" : \"Physical_Activity\"},axis=1, inplace=True)\n",
    "filtered_columns_df.head(100)"
   ]
  },
  {
   "cell_type": "code",
   "execution_count": null,
   "id": "a6d715a4",
   "metadata": {},
   "outputs": [],
   "source": [
    "# Change the data types!!!  I defaulted all as text!\n",
    "#TEXT\n",
    "#NUMERIC\n",
    "#INTEGER\n",
    "#REAL\n",
    "#BLOB\n",
    "\n",
    "\n",
    "\n",
    "\n",
    "\n",
    "con = sqlite3.connect('Heart_Disease_Analysis.db')\n",
    "cur = con.cursor()\n",
    "cur.execute('''CREATE TABLE IF NOT EXISTS Clean_Data\n",
    "                        (Birth_Sex text, Age REAL, Race text, \n",
    "                        State text,Metropolitan_y_n text,\n",
    "                        Urban_Rural text, Overall_Health text, \n",
    "                        Physical_Health text, BMI_CDC_Categories text, \n",
    "                        Diabetes text, Mental_Health text,\n",
    "                        Alcohol_Usage text, Asthma_History text,\n",
    "                        Kidney_Disease text, Stroke text, Reported_Income text,\n",
    "                        Education_Level text, Avg_Hours_of_Sleep text, Colonoscopy text,\n",
    "                        Prior_heart_Disease text, Prior_Heart_Disease text, Physical_activity text)''')\n",
    "\n",
    "#cur.execute ('''INSERT INTO Clean_Data VALUES\n",
    " #                       ''')"
   ]
  },
  {
   "cell_type": "code",
   "execution_count": null,
   "id": "46eaa2a4",
   "metadata": {},
   "outputs": [],
   "source": [
    "filtered_columns_df.dtypes"
   ]
  },
  {
   "cell_type": "code",
   "execution_count": null,
   "id": "0ad31e47",
   "metadata": {},
   "outputs": [],
   "source": []
  },
  {
   "cell_type": "code",
   "execution_count": null,
   "id": "067b34bb",
   "metadata": {},
   "outputs": [],
   "source": []
  },
  {
   "cell_type": "code",
   "execution_count": null,
   "id": "c98c647e",
   "metadata": {},
   "outputs": [],
   "source": []
  },
  {
   "cell_type": "code",
   "execution_count": null,
   "id": "07d02ab6",
   "metadata": {},
   "outputs": [],
   "source": []
  },
  {
   "cell_type": "code",
   "execution_count": null,
   "id": "29c40229",
   "metadata": {},
   "outputs": [],
   "source": []
  },
  {
   "cell_type": "code",
   "execution_count": null,
   "id": "ca6f2af0",
   "metadata": {},
   "outputs": [],
   "source": [
    "DB_FILE_PATH = 'Heart_Disease_Analysis.db'\n",
    "CSV_FILE_PATH = '..\\\\Sample_files\\\\IMDB-Movie-Data.csv'"
   ]
  },
  {
   "cell_type": "code",
   "execution_count": null,
   "id": "22e1f2bb",
   "metadata": {},
   "outputs": [],
   "source": []
  },
  {
   "cell_type": "code",
   "execution_count": null,
   "id": "ce64916e",
   "metadata": {},
   "outputs": [],
   "source": []
  },
  {
   "cell_type": "markdown",
   "id": "b0e7f647",
   "metadata": {},
   "source": [
    "## https://www.excelcise.org/python-sqlite-insert-data-pandas-data-frame/"
   ]
  },
  {
   "cell_type": "code",
   "execution_count": null,
   "id": "528899d8",
   "metadata": {},
   "outputs": [],
   "source": [
    "def connect_to_db(db_file):\n",
    "    \"\"\"\n",
    "    Connect to an SQlite database, if db file does not exist it will be created\n",
    "    :param db_file: absolute or relative path of db file\n",
    "    :return: sqlite3 connection\n",
    "    \"\"\"\n",
    "    sqlite3_conn = None\n",
    "\n",
    "    try:\n",
    "        sqlite3_conn = sqlite3.connect(db_file)\n",
    "        return sqlite3_conn\n",
    "\n",
    "    except Error as err:\n",
    "        print(err)\n",
    "\n",
    "        if sqlite3_conn is not None:\n",
    "            sqlite3_conn.close()\n",
    "\n",
    "\n",
    "def insert_values_to_table(table_name, csv_file):\n",
    "    \"\"\"\n",
    "    Open a csv file with pandas, store its content in a pandas data frame, change the data frame headers to the table\n",
    "    column names and insert the data to the table\n",
    "    :param table_name: table name in the database to insert the data into\n",
    "    :param csv_file: path of the csv file to process\n",
    "    :return: None\n",
    "    \"\"\"\n",
    "\n",
    "    conn = connect_to_db(DB_FILE_PATH)\n",
    "\n",
    "    if conn is not None:\n",
    "        c = conn.cursor()\n",
    "\n",
    "        # Create table if it is not exist\n",
    "        c.execute('CREATE TABLE IF NOT EXISTS ' + Clean_Data +\n",
    "                  '(Birth_Sex text,'\n",
    "                  ' Age REAL,'\n",
    "                  ' Race text,'\n",
    "                  ' State text,Metropolitan_y_n text,'\n",
    "                  ' Urban_Rural text, Overall_Health text, '\n",
    "                  ' Physical_Health text, BMI_CDC_Categories text, '\n",
    "                  ' Diabetes text, Mental_Health text,'\n",
    "                  ' Alcohol_Usage text, Asthma_History text,'\n",
    "                  ' Kidney_Disease text, Stroke text, Reported_Income text,'\n",
    "                  ' Education_Level text, Avg_Hours_of_Sleep text, Colonoscopy text,'\n",
    "                  ' Prior_heart_Disease text, Prior_Heart_Disease text, Physical_activity text)')\n",
    "        \n",
    "        \n",
    "          # Create table if it is not exist\n",
    "        c.execute('CREATE TABLE IF NOT EXISTS ' + table_name +\n",
    "                  '(rank        INTEGER,'\n",
    "                  'title        VARCHAR,'\n",
    "                  'genre        VARCHAR,'\n",
    "                  'description  VARCHAR,'\n",
    "                  'director     VARCHAR,'\n",
    "                  'actors       VARCHAR,'\n",
    "                  'year_release INTEGER,'\n",
    "                  'runTime      INTEGER,'\n",
    "                  'rating       DECIMAL,'\n",
    "                  'votes        INTEGER,'\n",
    "                  'revenue      DECIMAL,'\n",
    "                  'metascore    INTEGER)')\n",
    "\n",
    "        df = pd.read_csv(csv_file)\n",
    "\n",
    "        df.columns = get_column_names_from_db_table(c, table_name)\n",
    "\n",
    "        df.to_sql(name=table_name, con=conn, if_exists='append', index=False)\n",
    "\n",
    "        conn.close()\n",
    "        print('SQL insert process finished')\n",
    "    else:\n",
    "        print('Connection to database failed')\n",
    "\n",
    "\n",
    "def get_column_names_from_db_table(sql_cursor, table_name):\n",
    "    \"\"\"\n",
    "    Scrape the column names from a database table to a list\n",
    "    :param sql_cursor: sqlite cursor\n",
    "    :param table_name: table name to get the column names from\n",
    "    :return: a list with table column names\n",
    "    \"\"\"\n",
    "\n",
    "    table_column_names = 'PRAGMA table_info(' + table_name + ');'\n",
    "    sql_cursor.execute(table_column_names)\n",
    "    table_column_names = sql_cursor.fetchall()\n",
    "\n",
    "    column_names = list()\n",
    "\n",
    "    for name in table_column_names:\n",
    "        column_names.append(name[1])\n",
    "\n",
    "    return column_names\n",
    "\n",
    "\n",
    "\n",
    "if __name__ == '__main__':\n",
    "    insert_values_to_table('imdb_temp', CSV_FILE_PATH)"
   ]
  }
 ],
 "metadata": {
  "kernelspec": {
   "display_name": "mlenv",
   "language": "python",
   "name": "mlenv"
  },
  "language_info": {
   "codemirror_mode": {
    "name": "ipython",
    "version": 3
   },
   "file_extension": ".py",
   "mimetype": "text/x-python",
   "name": "python",
   "nbconvert_exporter": "python",
   "pygments_lexer": "ipython3",
   "version": "3.7.13"
  }
 },
 "nbformat": 4,
 "nbformat_minor": 5
}
